{
 "cells": [
  {
   "cell_type": "code",
   "execution_count": 2,
   "metadata": {},
   "outputs": [
    {
     "name": "stdout",
     "output_type": "stream",
     "text": [
      "Collecting openpyxl\n",
      "  Using cached openpyxl-3.1.5-py2.py3-none-any.whl.metadata (2.5 kB)\n",
      "Collecting et-xmlfile (from openpyxl)\n",
      "  Using cached et_xmlfile-2.0.0-py3-none-any.whl.metadata (2.7 kB)\n",
      "Using cached openpyxl-3.1.5-py2.py3-none-any.whl (250 kB)\n",
      "Using cached et_xmlfile-2.0.0-py3-none-any.whl (18 kB)\n",
      "Installing collected packages: et-xmlfile, openpyxl\n",
      "\n",
      "   -------------------- ------------------- 1/2 [openpyxl]\n",
      "   -------------------- ------------------- 1/2 [openpyxl]\n",
      "   -------------------- ------------------- 1/2 [openpyxl]\n",
      "   -------------------- ------------------- 1/2 [openpyxl]\n",
      "   -------------------- ------------------- 1/2 [openpyxl]\n",
      "   -------------------- ------------------- 1/2 [openpyxl]\n",
      "   ---------------------------------------- 2/2 [openpyxl]\n",
      "\n",
      "Successfully installed et-xmlfile-2.0.0 openpyxl-3.1.5\n"
     ]
    }
   ],
   "source": [
    "!pip install openpyxl"
   ]
  },
  {
   "cell_type": "code",
   "execution_count": 4,
   "metadata": {},
   "outputs": [
    {
     "name": "stdout",
     "output_type": "stream",
     "text": [
      "Downloading...\n",
      "Done\n"
     ]
    }
   ],
   "source": [
    "\"\"\"지수선물옵션 종목코드(fo_idx_code_mts.mst) 정제 파이썬 파일\"\"\"\n",
    "\n",
    "import pandas as pd\n",
    "import urllib.request\n",
    "import ssl\n",
    "import zipfile\n",
    "import os\n",
    "\n",
    "base_dir = os.getcwd()\n",
    "\n",
    "\n",
    "def get_domestic_future_master_dataframe(base_dir):\n",
    "\n",
    "    # download file\n",
    "    print(\"Downloading...\")\n",
    "\n",
    "    ssl._create_default_https_context = ssl._create_unverified_context\n",
    "    urllib.request.urlretrieve(\n",
    "        \"https://new.real.download.dws.co.kr/common/master/fo_idx_code_mts.mst.zip\",\n",
    "        base_dir + \"\\\\fo_idx_code_mts.mst.zip\",\n",
    "    )\n",
    "    os.chdir(base_dir)\n",
    "\n",
    "    fo_idx_code_zip = zipfile.ZipFile(\"fo_idx_code_mts.mst.zip\")\n",
    "    fo_idx_code_zip.extractall()\n",
    "    fo_idx_code_zip.close()\n",
    "    file_name = base_dir + \"\\\\fo_idx_code_mts.mst\"\n",
    "\n",
    "    columns = [\n",
    "        \"상품종류\",\n",
    "        \"단축코드\",\n",
    "        \"표준코드\",\n",
    "        \" 한글종목명\",\n",
    "        \" ATM구분\",\n",
    "        \" 행사가\",\n",
    "        \" 월물구분코드\",\n",
    "        \" 기초자산 단축코드\",\n",
    "        \" 기초자산 명\",\n",
    "    ]\n",
    "    df = pd.read_table(file_name, sep=\"|\", encoding=\"cp949\", header=None)\n",
    "    df.columns = columns\n",
    "    df.to_csv(\"fo_idx_code_mts.csv\", index=False)  # 현재 위치에 엑셀파일로 저장\n",
    "\n",
    "    return df\n",
    "\n",
    "\n",
    "df = get_domestic_future_master_dataframe(base_dir)\n",
    "print(\"Done\")"
   ]
  }
 ],
 "metadata": {
  "kernelspec": {
   "display_name": ".venv",
   "language": "python",
   "name": "python3"
  },
  "language_info": {
   "codemirror_mode": {
    "name": "ipython",
    "version": 3
   },
   "file_extension": ".py",
   "mimetype": "text/x-python",
   "name": "python",
   "nbconvert_exporter": "python",
   "pygments_lexer": "ipython3",
   "version": "3.11.9"
  }
 },
 "nbformat": 4,
 "nbformat_minor": 2
}
