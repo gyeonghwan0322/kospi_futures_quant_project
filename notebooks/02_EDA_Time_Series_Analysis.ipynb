{
  "cells": [
    {
      "cell_type": "raw",
      "metadata": {
        "vscode": {
          "languageId": "raw"
        }
      },
      "source": [
        "# 📈 KOSPI 선물 퀀트 투자 프로젝트 - 2단계 EDA\n",
        "## 시계열 분석 및 투자자 행동 패턴\n",
        "\n",
        "### 목표\n",
        "1. 시계열 데이터의 트렌드 및 계절성 분석\n",
        "2. 투자자별 매매 패턴 분석 (외국인, 개인, 기관)\n",
        "3. 변동성 분석 및 시장 이벤트 탐지\n",
        "4. 예측 변수 후보 식별\n"
      ]
    }
  ],
  "metadata": {
    "language_info": {
      "name": "python"
    }
  },
  "nbformat": 4,
  "nbformat_minor": 2
}
