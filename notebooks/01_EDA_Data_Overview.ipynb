{
  "cells": [
    {
      "cell_type": "raw",
      "metadata": {
        "vscode": {
          "languageId": "raw"
        }
      },
      "source": [
        "# 📊 KOSPI 선물 퀀트 투자 프로젝트 - 1단계 EDA\n",
        "## 데이터 개요 및 기본 통계 분석\n",
        "\n",
        "### 목표\n",
        "1. 수집된 데이터의 구조와 품질 파악\n",
        "2. 각 데이터셋의 기본 통계량 분석\n",
        "3. 결측치 및 이상치 탐지\n",
        "4. 데이터 간 상관관계 초기 분석\n"
      ]
    },
    {
      "cell_type": "code",
      "execution_count": null,
      "metadata": {},
      "outputs": [],
      "source": [
        "# 필수 라이브러리 임포트\n",
        "import pandas as pd\n",
        "import numpy as np\n",
        "import matplotlib.pyplot as plt\n",
        "import seaborn as sns\n",
        "import os\n",
        "import glob\n",
        "from datetime import datetime, timedelta\n",
        "import warnings\n",
        "\n",
        "warnings.filterwarnings(\"ignore\")\n",
        "\n",
        "# 한글 폰트 설정\n",
        "plt.rcParams[\"font.family\"] = \"Malgun Gothic\"\n",
        "plt.rcParams[\"axes.unicode_minus\"] = False\n",
        "\n",
        "# 스타일 설정\n",
        "sns.set_style(\"whitegrid\")\n",
        "plt.rcParams[\"figure.figsize\"] = (12, 8)"
      ]
    },
    {
      "cell_type": "raw",
      "metadata": {
        "vscode": {
          "languageId": "raw"
        }
      },
      "source": [
        "## 1. 📁 데이터 구조 파악\n"
      ]
    },
    {
      "cell_type": "code",
      "execution_count": null,
      "metadata": {},
      "outputs": [],
      "source": [
        "# 데이터 디렉토리 구조 확인\n",
        "data_dir = \"../data\"\n",
        "\n",
        "\n",
        "def explore_data_structure(directory):\n",
        "    \"\"\"데이터 디렉토리 구조를 탐색하고 파일 정보를 반환\"\"\"\n",
        "    data_info = {}\n",
        "\n",
        "    for root, dirs, files in os.walk(directory):\n",
        "        if files:  # CSV 파일이 있는 경우만\n",
        "            csv_files = [f for f in files if f.endswith(\".csv\")]\n",
        "            if csv_files:\n",
        "                rel_path = os.path.relpath(root, directory)\n",
        "                data_info[rel_path] = csv_files\n",
        "\n",
        "    return data_info\n",
        "\n",
        "\n",
        "# 데이터 구조 탐색\n",
        "data_structure = explore_data_structure(data_dir)\n",
        "\n",
        "print(\"📊 수집된 데이터 구조:\")\n",
        "print(\"=\" * 50)\n",
        "for category, files in data_structure.items():\n",
        "    print(f\"\\n📁 {category}:\")\n",
        "    for file in files[:5]:  # 처음 5개 파일만 표시\n",
        "        print(f\"  - {file}\")\n",
        "    if len(files) > 5:\n",
        "        print(f\"  ... 외 {len(files)-5}개 파일\")\n",
        "    print(f\"  총 {len(files)}개 파일\")"
      ]
    },
    {
      "cell_type": "raw",
      "metadata": {
        "vscode": {
          "languageId": "raw"
        }
      },
      "source": [
        "## 2. 🎯 주요 데이터셋 로드 및 기본 정보\n"
      ]
    },
    {
      "cell_type": "code",
      "execution_count": null,
      "metadata": {},
      "outputs": [],
      "source": [
        "# 주요 데이터셋 로드 함수\n",
        "def load_dataset(category, feature_name, code=None):\n",
        "    \"\"\"특정 카테고리의 데이터셋을 로드\"\"\"\n",
        "    path = os.path.join(data_dir, category, feature_name)\n",
        "\n",
        "    if code:\n",
        "        file_path = os.path.join(path, f\"{code}.csv\")\n",
        "        if os.path.exists(file_path):\n",
        "            return pd.read_csv(file_path)\n",
        "    else:\n",
        "        # 첫 번째 CSV 파일 로드\n",
        "        csv_files = glob.glob(os.path.join(path, \"*.csv\"))\n",
        "        if csv_files:\n",
        "            return pd.read_csv(csv_files[0])\n",
        "\n",
        "    return None\n",
        "\n",
        "\n",
        "# 주요 데이터셋 로드\n",
        "datasets = {}\n",
        "\n",
        "# 1. KOSPI200 선물 가격 데이터 (가장 최신 만기)\n",
        "kospi_futures = load_dataset(\"domestic_futures\", \"kospi200_futures_daily\", \"101W06\")\n",
        "if kospi_futures is not None:\n",
        "    datasets[\"KOSPI200_선물_가격\"] = kospi_futures\n",
        "\n",
        "# 2. KOSPI200 연속선물 데이터\n",
        "kospi_continuous = load_dataset(\n",
        "    \"domestic_futures\", \"kospi200_futures_daily_continuous\", \"101000\"\n",
        ")\n",
        "if kospi_continuous is not None:\n",
        "    datasets[\"KOSPI200_연속선물\"] = kospi_continuous\n",
        "\n",
        "# 3. VKOSPI 선물 데이터\n",
        "vkospi_futures = load_dataset(\"domestic_futures\", \"vkospi_futures_daily\", \"104W06\")\n",
        "if vkospi_futures is not None:\n",
        "    datasets[\"VKOSPI_선물\"] = vkospi_futures\n",
        "\n",
        "# 4. 투자자 매매동향 데이터들\n",
        "kospi_investor = load_dataset(\"market_data\", \"kospi_investor_trends_realtime\", \"kospi\")\n",
        "if kospi_investor is not None:\n",
        "    datasets[\"KOSPI_투자자동향\"] = kospi_investor\n",
        "\n",
        "kosdaq_investor = load_dataset(\n",
        "    \"market_data\", \"kosdaq_investor_trends_realtime\", \"kosdaq\"\n",
        ")\n",
        "if kosdaq_investor is not None:\n",
        "    datasets[\"KOSDAQ_투자자동향\"] = kosdaq_investor\n",
        "\n",
        "call_investor = load_dataset(\n",
        "    \"market_data\", \"kospi200_call_investor_trends_realtime\", \"options\"\n",
        ")\n",
        "if call_investor is not None:\n",
        "    datasets[\"콜옵션_투자자동향\"] = call_investor\n",
        "\n",
        "put_investor = load_dataset(\n",
        "    \"market_data\", \"kospi200_put_investor_trends_realtime\", \"putoptions\"\n",
        ")\n",
        "if put_investor is not None:\n",
        "    datasets[\"풋옵션_투자자동향\"] = put_investor\n",
        "\n",
        "print(f\"✅ 로드된 데이터셋: {len(datasets)}개\")\n",
        "for name, df in datasets.items():\n",
        "    print(f\"  - {name}: {len(df)}행 × {len(df.columns)}열\")"
      ]
    }
  ],
  "metadata": {
    "language_info": {
      "name": "python"
    }
  },
  "nbformat": 4,
  "nbformat_minor": 2
}
